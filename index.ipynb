{
 "cells": [
  {
   "cell_type": "markdown",
   "metadata": {},
   "source": [
    "# Coding Elliptic Curves in Python\n",
    "\n",
    "We are not interested in the curve itself, but specific points on the curve. For example, in the curve \\\\(y^2 = x^3 + 5x + 7\\\\), we are interested in the coordinate (-1,1). We are thus going to define the class `Point` to be the actual point on a specific curve. The curve has a specifc form, \\\\(y^2 = x^3 + 5x + 7\\\\) so we can define the curve with just the two numbers *a* and *b*.\n",
    "\n",
    "#### For the curve \\\\(y^2 = x^3 + 5x + 7\\\\), which of these are on the curve?\n",
    "\n",
    "\\\\((-2,4), (3,7), (18,77)\\\\)\n"
   ]
  },
  {
   "cell_type": "markdown",
   "metadata": {},
   "source": [
    "### Try it"
   ]
  },
  {
   "cell_type": "code",
   "execution_count": 7,
   "metadata": {},
   "outputs": [
    {
     "name": "stdout",
     "output_type": "stream",
     "text": [
      "(-2,4) is not on the curve\n",
      "(3,7) is on the curve\n",
      "(18,77) is on the curve\n"
     ]
    }
   ],
   "source": [
    "# (-2,4), (3,7), (18,77)\n",
    "# equation in python is: y**2 == x**3 + 5*x + 7\n",
    "\n",
    "points = ((-2,4), (3,7), (18,77))\n",
    "\n",
    "for x, y in points:\n",
    "    # determine whether (x,y) is on the curve\n",
    "    if y**2 == x**3 + 5*x + 7:\n",
    "        print('({},{}) is on the curve'.format(x,y))\n",
    "    else:\n",
    "        print('({},{}) is not on the curve'.format(x,y))\n",
    "    # determine whether (x,y) is on the curve"
   ]
  },
  {
   "cell_type": "markdown",
   "metadata": {},
   "source": [
    "### Test Driven Exercise"
   ]
  },
  {
   "cell_type": "code",
   "execution_count": 10,
   "metadata": {},
   "outputs": [],
   "source": [
    "class Point:\n",
    "\n",
    "    def __init__(self, x, y, a, b):\n",
    "        self.a = a\n",
    "        self.b = b\n",
    "        self.x = x\n",
    "        self.y = y\n",
    "        \n",
    "        if self.y**2 != self.x**3 + a*x + b:\n",
    "        # if not, throw a RuntimeError\n",
    "            raise RuntimeError('({}, {}) is not on the curve'.format(self.x, self.y))"
   ]
  },
  {
   "cell_type": "code",
   "execution_count": null,
   "metadata": {},
   "outputs": [],
   "source": []
  }
 ],
 "metadata": {
  "kernelspec": {
   "display_name": "Python 3",
   "language": "python",
   "name": "python3"
  },
  "language_info": {
   "codemirror_mode": {
    "name": "ipython",
    "version": 3
   },
   "file_extension": ".py",
   "mimetype": "text/x-python",
   "name": "python",
   "nbconvert_exporter": "python",
   "pygments_lexer": "ipython3",
   "version": "3.6.4"
  }
 },
 "nbformat": 4,
 "nbformat_minor": 2
}
